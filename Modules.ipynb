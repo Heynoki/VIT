{
 "cells": [
  {
   "cell_type": "code",
   "execution_count": 1,
   "id": "16fb772a-1043-43c8-ab69-8e22dbda4f1f",
   "metadata": {},
   "outputs": [],
   "source": [
    "import torch\n",
    "import torch.nn as nn\n"
   ]
  },
  {
   "cell_type": "code",
   "execution_count": 26,
   "id": "60617ef2-cfb6-4dd2-b0e6-dc666409c08e",
   "metadata": {},
   "outputs": [],
   "source": [
    "class SAttention(nn.Module):\n",
    "    def __init__(self, f_q, d_q):\n",
    "        super().__init__()\n",
    "        \n",
    "        self.q_linear = nn.Linear(f_q, d_q)\n",
    "        self.k_linear = nn.Linear(f_q, d_q)\n",
    "        self.v_linear = nn.Linear(f_q, d_q)\n",
    "        self.sqd_q = d_q ** 0.5\n",
    "    def forward(self, x):\n",
    "        Q = self.q_linear(x)\n",
    "        K = self.q_linear(x)\n",
    "        V = self.q_linear(x)\n",
    "        QKT = torch.softmax(torch.matmul(Q, K.transpose(1, 2)), dim=-1) / self.sqd_q\n",
    "        \n",
    "        return torch.matmul(QKT, V)\n",
    "    "
   ]
  },
  {
   "cell_type": "code",
   "execution_count": 27,
   "id": "fca89838-b1c8-43ee-a18e-d412a2cc8ce7",
   "metadata": {},
   "outputs": [
    {
     "name": "stdout",
     "output_type": "stream",
     "text": [
      "torch.Size([10, 10, 30])\n"
     ]
    }
   ],
   "source": [
    "sdpa = SAttention(20, 30)\n",
    "X = torch.randn(10, 10, 20)\n",
    "\n",
    "res = sdpa(X)\n",
    "print(res.size())"
   ]
  },
  {
   "cell_type": "code",
   "execution_count": null,
   "id": "5cf33f2c-71d6-4480-9076-d3640e11cd0d",
   "metadata": {},
   "outputs": [],
   "source": []
  }
 ],
 "metadata": {
  "kernelspec": {
   "display_name": "torch",
   "language": "python",
   "name": "torch"
  },
  "language_info": {
   "codemirror_mode": {
    "name": "ipython",
    "version": 3
   },
   "file_extension": ".py",
   "mimetype": "text/x-python",
   "name": "python",
   "nbconvert_exporter": "python",
   "pygments_lexer": "ipython3",
   "version": "3.8.13"
  }
 },
 "nbformat": 4,
 "nbformat_minor": 5
}
